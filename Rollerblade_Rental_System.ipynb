{
  "nbformat": 4,
  "nbformat_minor": 0,
  "metadata": {
    "colab": {
      "provenance": [],
      "toc_visible": true
    },
    "kernelspec": {
      "name": "python3",
      "display_name": "Python 3"
    },
    "language_info": {
      "name": "python"
    }
  },
  "cells": [
    {
      "cell_type": "markdown",
      "source": [
        "# Rollerblade-Rental-System"
      ],
      "metadata": {
        "id": "yHmfYFYuhndP"
      }
    },
    {
      "cell_type": "markdown",
      "source": [
        "# Import libraries"
      ],
      "metadata": {
        "id": "nmaOHylQSv_6"
      }
    },
    {
      "cell_type": "code",
      "source": [
        "from datetime import datetime, timedelta\n",
        "import uuid"
      ],
      "metadata": {
        "id": "ggvvSY4-SxuL"
      },
      "execution_count": null,
      "outputs": []
    },
    {
      "cell_type": "markdown",
      "source": [
        "# Utility methods"
      ],
      "metadata": {
        "id": "AfpG1XM1eLyg"
      }
    },
    {
      "cell_type": "markdown",
      "source": [
        "## Generate unique id"
      ],
      "metadata": {
        "id": "FmyBx0gbBqE9"
      }
    },
    {
      "cell_type": "code",
      "source": [
        "def generate_unique_id():\n",
        "  unique_id = str(uuid.uuid4().fields[-1])[:6]\n",
        "  return unique_id"
      ],
      "metadata": {
        "id": "ZyGX2xtneTrL"
      },
      "execution_count": null,
      "outputs": []
    },
    {
      "cell_type": "markdown",
      "source": [
        "## Search object (Binary-Search)"
      ],
      "metadata": {
        "id": "XPuzv2i7BvCq"
      }
    },
    {
      "cell_type": "code",
      "source": [
        "def search_items(items, target, attribute):\n",
        "    left = 0\n",
        "    right = len(items) - 1\n",
        "\n",
        "    while left <= right:\n",
        "        mid = (left + right) // 2\n",
        "        comparison = getattr(items[mid], attribute)\n",
        "\n",
        "        if comparison == target:\n",
        "            return items[mid]\n",
        "        elif comparison < target:\n",
        "            left = mid + 1\n",
        "        else:\n",
        "            right = mid - 1\n",
        "\n",
        "    return None"
      ],
      "metadata": {
        "id": "iw9X3ely_c8r"
      },
      "execution_count": null,
      "outputs": []
    },
    {
      "cell_type": "markdown",
      "source": [
        "## Sort objects (Quick-Sort)"
      ],
      "metadata": {
        "id": "hnPm-PUZB1yp"
      }
    },
    {
      "cell_type": "code",
      "source": [
        "def sort_items(items, target_attr, ascending=True):\n",
        "  if len(items) <= 1:\n",
        "      return items\n",
        "\n",
        "  pivot = items[len(items) // 2]\n",
        "  left = [item for item in items if getattr(item, target_attr) < getattr(pivot, target_attr)]\n",
        "  middle = [item for item in items if getattr(item, target_attr) == getattr(pivot, target_attr)]\n",
        "  right = [item for item in items if getattr(item, target_attr) > getattr(pivot, target_attr)]\n",
        "\n",
        "  if ascending:\n",
        "      return sort_items(left, target_attr, ascending) + middle + sort_items(right, target_attr, ascending)\n",
        "  else:\n",
        "      return sort_items(right, target_attr, ascending) + middle + sort_items(left, target_attr, ascending)"
      ],
      "metadata": {
        "id": "qrcbzxcwCBrj"
      },
      "execution_count": null,
      "outputs": []
    },
    {
      "cell_type": "markdown",
      "source": [
        "# Rollerblade class"
      ],
      "metadata": {
        "id": "lEIo8oi8jr-y"
      }
    },
    {
      "cell_type": "markdown",
      "source": [
        "## Class definition\n",
        "\n",
        "Attribute details\n",
        "```\n",
        "prod_id   product id\n",
        "brand     rollerblade brand name\n",
        "model     rollerblade model name\n",
        "rprice    rental price per hour\n",
        "sizes     all available sizes\n",
        "color     rollerblade color\n",
        "rating    customer rating\n",
        "```"
      ],
      "metadata": {
        "id": "BuP-9R1dxM2t"
      }
    },
    {
      "cell_type": "code",
      "source": [
        "# Rollerblade class\n",
        "class Rollerblade:\n",
        "  # Constructor\n",
        "  def __init__(self, prod_id, brand, model, rprice, sizes, color, rating):\n",
        "    self.prod_id = prod_id\n",
        "    self.brand = brand\n",
        "    self.model = model\n",
        "    self.rprice = rprice\n",
        "    self.sizes = sizes\n",
        "    self.color = color\n",
        "    self.rating = rating\n",
        "\n",
        "  # Display rollerblade details\n",
        "  def __str__(self):\n",
        "    return f\"Product Id: {self.prod_id}\\n\\\n",
        "            Brand: {self.brand}\\n\\\n",
        "            Model: {self.model}\\n\\\n",
        "            Rental Price: {self.rprice} USD/hour\\n\\\n",
        "            Available Sizes: {self.sizes}\\n\\\n",
        "            Color: {self.color}\\n\\\n",
        "            Rating: {self.rating}\"\n",
        "\n",
        "  # Edit rollerblade details\n",
        "  def edit_rollerblade(self, attribute, new_value):\n",
        "    if hasattr(self, attribute):\n",
        "      setattr(self, attribute, new_value)\n",
        "      print(f\"\\n{attribute} has been updated.\")\n",
        "    else:\n",
        "      print(\"\\nInvalid attribute! Please provide a valid attribute to edit.\")\n",
        "\n",
        "rollerblades = []"
      ],
      "metadata": {
        "id": "u2LRhlGgjbMs"
      },
      "execution_count": null,
      "outputs": []
    },
    {
      "cell_type": "markdown",
      "source": [
        "## Rollerblade references\n",
        "```\n",
        "Product Id:       R-376639\n",
        "Brand:            Rollerblade\n",
        "Model:            MACROBLADE 80 ABT\n",
        "Rental Price:     10 per hour\n",
        "Available Sizes:  [6,6.5,7,7.5,8,8.5,9,9.5,10,10,10.5,11,11.5,12,12.5,13,13.5]\n",
        "Color:            Silver/Neon Yellow\n",
        "Rating:           5.0\n",
        "\n",
        "[\"Rollerblade\", \"MACROBLADE 80 ABT\", 15, [6,6.5,7,7.5,8,8.5,9,9.5,10,10,10.5,11,11.5,12,12.5], \"Silver/Neon Yellow\", 5.0]\n",
        "[\"Rollerblade\", \"ADVANTAGE PRO XT\", 15, [7,8,9,10,11,12,13], \"Black/Red\", 5.0]\n",
        "[\"Rollerblade\", \"ZETRABLADE\", 13, [6,10,11], \"Black/Silver\", 4.7]\n",
        "[\"Rollerblade\", \"RB CRUISER\", 13, [5,6,7,8,10,11,12], \"Black/Neon Yellow\", 3.8]\n",
        "[\"Rollerblade\", \"FORMULA 100\", 10, [7,8,9,12], \"Black/Red\", 4.0]\n",
        "[\"PowerSlide\", \"STELLAR 110\", 10, [7,8,9,10,11,12,13], \"Black/Red\", 4.5]\n",
        "[\"PowerSlide\", \"NEXT PRO BLACK 80\", 15, [6,10,11], \"Black/White\", 5.0]\n",
        "[\"PowerSlide\", \"PHUZION RADON BLACK 80\", 13, [7,8,9,10,11,12,13], \"Black\", 4.5]\n",
        "[\"Roces\", \"M12 LO UFS TEAM JUNO\", 15, [6,6.5,7,7.5,8,8.5,9,9.5,10,10,10.5,11,11.5,12,12.5,13,13.5], \"Orange/Grey\", 5.0]\n",
        "[\"Roces\", \"THREAD SALT-N-PEPA\", 15, [7,8,9,10,11,12,13], \"Grey/White\", 5.0]\n",
        "\n",
        "https://www.rollerblade.com/\n",
        "https://www.powerslide.com/\n",
        "https://www.roces.com/\n",
        "```"
      ],
      "metadata": {
        "id": "j1cQcCZPgSE2"
      }
    },
    {
      "cell_type": "markdown",
      "source": [
        "## Insert/Display rollerblade details"
      ],
      "metadata": {
        "id": "4xFm28z2eL1E"
      }
    },
    {
      "cell_type": "code",
      "source": [
        "# Quick entry for first few rollerblades\n",
        "products = [[\"Rollerblade\", \"MACROBLADE 80 ABT\", 15, [6,6.5,7,7.5,8,8.5,9,9.5,10,10,10.5,11,11.5,12,12.5], \"Silver/Neon Yellow\", 5.0],\n",
        "            [\"Rollerblade\", \"ADVANTAGE PRO XT\", 15, [7,8,9,10,11,12,13], \"Black/Red\", 5.0],\n",
        "            [\"Rollerblade\", \"ZETRABLADE\", 13, [6,10,11], \"Black/Silver\", 4.7],\n",
        "            [\"Rollerblade\", \"RB CRUISER\", 13, [5,6,7,8,10,11,12], \"Black/Neon Yellow\", 3.8],\n",
        "            [\"PowerSlide\", \"STELLAR 110\", 10, [7,8,9,10,11,12,13], \"Black/Red\", 4.5],\n",
        "            [\"PowerSlide\", \"NEXT PRO BLACK 80\", 15, [6,10,11], \"Black/White\", 5.0],\n",
        "            [\"Roces\", \"M12 LO UFS TEAM JUNO\", 15, [6,6.5,7,7.5,8,8.5,9,9.5,10,10,10.5,11,11.5,12,12.5,13,13.5], \"Orange/Grey\", 5.0]]\n",
        "\n",
        "for i in range(len(products)):\n",
        "  rollerblade = Rollerblade(prod_id=f\"P-{generate_unique_id()}\", brand=str(products[i][0]), model=str(products[i][1]), rprice=float(products[i][2]), sizes=products[i][3], color=str(products[i][4]), rating=float(products[i][5]))\n",
        "  rollerblades.append(rollerblade)"
      ],
      "metadata": {
        "id": "Sg2tcBUWtd5h"
      },
      "execution_count": null,
      "outputs": []
    },
    {
      "cell_type": "code",
      "source": [
        "# Loop to take user inputs and store more rollerblades\n",
        "while True:\n",
        "  print(\"\\n[INSERT MODE]\\nENTER ROLLERBLADE DETAILS ============================== \\n\")\n",
        "  prod_id = f\"P-{generate_unique_id()}\"\n",
        "  brand = input(\"Brand: \")\n",
        "  model = input(\"Model: \")\n",
        "  rprice = float(input(\"Rental Price: \"))\n",
        "  sizes = [float(x) for x in input(\"Enter all available sizes (csv): \").split(',')]\n",
        "  color = input(\"Color: \")\n",
        "  rating = float(input(\"Rating: \"))\n",
        "\n",
        "  rollerblade = Rollerblade(prod_id, brand, model, rprice, sizes, color, rating)\n",
        "  rollerblades.append(rollerblade)\n",
        "\n",
        "  choice = input(\"\\nDo you want to enter another rollerblade? (y/n): \").lower()\n",
        "  if choice != \"y\":\n",
        "    # Display rollerblades\n",
        "    print(\"\\nROLLERBLADES AVAILABLE ============================== \\n\")\n",
        "    for i, rollerblade in enumerate(rollerblades):\n",
        "      print(f\"\\nProduct {i+1} >>--\")\n",
        "      print(rollerblade)\n",
        "    break"
      ],
      "metadata": {
        "id": "ncs_oIaxJ7MZ",
        "colab": {
          "base_uri": "https://localhost:8080/"
        },
        "outputId": "1dffffc2-41d5-4301-bcb4-34d9542f8f25"
      },
      "execution_count": null,
      "outputs": [
        {
          "output_type": "stream",
          "name": "stdout",
          "text": [
            "\n",
            "[INSERT MODE]\n",
            "ENTER ROLLERBLADE DETAILS ============================== \n",
            "\n",
            "Brand: Rollerblade\n",
            "Model: FORMULA 100\n",
            "Rental Price: 10\n",
            "Enter all available sizes (csv): 7,8,9,12\n",
            "Color: Black/Red\n",
            "Rating: 4\n",
            "\n",
            "Do you want to enter another rollerblade? (y/n): y\n",
            "\n",
            "[INSERT MODE]\n",
            "ENTER ROLLERBLADE DETAILS ============================== \n",
            "\n",
            "Brand: PowerSlide\n",
            "Model: PHUZION RADON BLACK 80\n",
            "Rental Price: 13\n",
            "Enter all available sizes (csv): 7,8,9,10,11,12,13\n",
            "Color: Black\n",
            "Rating: 4.5\n",
            "\n",
            "Do you want to enter another rollerblade? (y/n): y\n",
            "\n",
            "[INSERT MODE]\n",
            "ENTER ROLLERBLADE DETAILS ============================== \n",
            "\n",
            "Brand: Roces\n",
            "Model: THREAD SALT-N-PEPA\n",
            "Rental Price: 15\n",
            "Enter all available sizes (csv): 7,8,9,10,11,12,13\n",
            "Color: Grey/White\n",
            "Rating: 5\n",
            "\n",
            "Do you want to enter another rollerblade? (y/n): n\n",
            "\n",
            "ROLLERBLADES AVAILABLE ============================== \n",
            "\n",
            "\n",
            "Product 1 >>--\n",
            "Product Id: P-167273\n",
            "            Brand: Rollerblade\n",
            "            Model: MACROBLADE 80 ABT\n",
            "            Rental Price: 15.0 USD/hour\n",
            "            Available Sizes: [6, 6.5, 7, 7.5, 8, 8.5, 9, 9.5, 10, 10, 10.5, 11, 11.5, 12, 12.5]\n",
            "            Color: Silver/Neon Yellow\n",
            "            Rating: 5.0\n",
            "\n",
            "Product 2 >>--\n",
            "Product Id: P-230246\n",
            "            Brand: Rollerblade\n",
            "            Model: ADVANTAGE PRO XT\n",
            "            Rental Price: 15.0 USD/hour\n",
            "            Available Sizes: [7, 8, 9, 10, 11, 12, 13]\n",
            "            Color: Black/Red\n",
            "            Rating: 5.0\n",
            "\n",
            "Product 3 >>--\n",
            "Product Id: P-797504\n",
            "            Brand: Rollerblade\n",
            "            Model: ZETRABLADE\n",
            "            Rental Price: 13.0 USD/hour\n",
            "            Available Sizes: [6, 10, 11]\n",
            "            Color: Black/Silver\n",
            "            Rating: 4.7\n",
            "\n",
            "Product 4 >>--\n",
            "Product Id: P-284920\n",
            "            Brand: Rollerblade\n",
            "            Model: RB CRUISER\n",
            "            Rental Price: 13.0 USD/hour\n",
            "            Available Sizes: [5, 6, 7, 8, 10, 11, 12]\n",
            "            Color: Black/Neon Yellow\n",
            "            Rating: 3.8\n",
            "\n",
            "Product 5 >>--\n",
            "Product Id: P-525568\n",
            "            Brand: PowerSlide\n",
            "            Model: STELLAR 110\n",
            "            Rental Price: 10.0 USD/hour\n",
            "            Available Sizes: [7, 8, 9, 10, 11, 12, 13]\n",
            "            Color: Black/Red\n",
            "            Rating: 4.5\n",
            "\n",
            "Product 6 >>--\n",
            "Product Id: P-813743\n",
            "            Brand: PowerSlide\n",
            "            Model: NEXT PRO BLACK 80\n",
            "            Rental Price: 15.0 USD/hour\n",
            "            Available Sizes: [6, 10, 11]\n",
            "            Color: Black/White\n",
            "            Rating: 5.0\n",
            "\n",
            "Product 7 >>--\n",
            "Product Id: P-168253\n",
            "            Brand: Roces\n",
            "            Model: M12 LO UFS TEAM JUNO\n",
            "            Rental Price: 15.0 USD/hour\n",
            "            Available Sizes: [6, 6.5, 7, 7.5, 8, 8.5, 9, 9.5, 10, 10, 10.5, 11, 11.5, 12, 12.5, 13, 13.5]\n",
            "            Color: Orange/Grey\n",
            "            Rating: 5.0\n",
            "\n",
            "Product 8 >>--\n",
            "Product Id: P-242627\n",
            "            Brand: Rollerblade\n",
            "            Model: FORMULA 100\n",
            "            Rental Price: 10.0 USD/hour\n",
            "            Available Sizes: [7.0, 8.0, 9.0, 12.0]\n",
            "            Color: Black/Red\n",
            "            Rating: 4.0\n",
            "\n",
            "Product 9 >>--\n",
            "Product Id: P-249682\n",
            "            Brand: PowerSlide\n",
            "            Model: PHUZION RADON BLACK 80\n",
            "            Rental Price: 13.0 USD/hour\n",
            "            Available Sizes: [7.0, 8.0, 9.0, 10.0, 11.0, 12.0, 13.0]\n",
            "            Color: Black\n",
            "            Rating: 4.5\n",
            "\n",
            "Product 10 >>--\n",
            "Product Id: P-119827\n",
            "            Brand: Roces\n",
            "            Model: THREAD SALT-N-PEPA\n",
            "            Rental Price: 15.0 USD/hour\n",
            "            Available Sizes: [7.0, 8.0, 9.0, 10.0, 11.0, 12.0, 13.0]\n",
            "            Color: Grey/White\n",
            "            Rating: 5.0\n"
          ]
        }
      ]
    },
    {
      "cell_type": "markdown",
      "source": [
        "## Edit/Display rollerblade details"
      ],
      "metadata": {
        "id": "gepQzF13elhJ"
      }
    },
    {
      "cell_type": "code",
      "source": [
        "# Loop to take user inputs and edit rollerblade details\n",
        "while True:\n",
        "  try:\n",
        "    print(\"\\n[EDIT MODE]\\nENTER ROLLERBLADE DETAILS ============================== \\n\")\n",
        "    edit_prod_id = \"P-\" + input(\"Product Id: P-\")\n",
        "\n",
        "    # Search rollerblade\n",
        "    found_rollerblade = search_items(rollerblades, edit_prod_id, 'prod_id')\n",
        "\n",
        "    if found_rollerblade:\n",
        "      print(\"\\nROLLERBLADE DETAILS: \\n\")\n",
        "      print(found_rollerblade)\n",
        "      edit_attr_no = int(input(\"\\nSpecification (edit): 1. Brand | 2. Model | 3. Rental Price | 4. Available Sizes | 5. Color: \"))\n",
        "      if(edit_attr_no == 1):\n",
        "        edit_attr = 'brand'\n",
        "        edit_attr_val = input(\"New Brand: \")\n",
        "      elif(edit_attr_no == 2):\n",
        "        edit_attr = 'model'\n",
        "        edit_attr_val = input(\"New Model: \")\n",
        "      elif(edit_attr_no == 3):\n",
        "        edit_attr = 'rprice'\n",
        "        edit_attr_val = float(input(\"New Rental Price: \"))\n",
        "      elif(edit_attr_no == 4):\n",
        "        edit_attr = 'sizes'\n",
        "        edit_attr_val = [float(x) for x in input(\"Enter new available sizes (csv): \").split(',')]\n",
        "      elif(edit_attr_no == 5):\n",
        "        edit_attr = 'color'\n",
        "        edit_attr_val = input(\"New Color: \")\n",
        "\n",
        "      found_rollerblade.edit_rollerblade(edit_attr, edit_attr_val)\n",
        "    else:\n",
        "      print(\"Rollerblade not found!\")\n",
        "\n",
        "  except ValueError as e:\n",
        "    print(\"Error:\", e)\n",
        "\n",
        "  choice = input(\"\\nDo you want to edit another rollerblade? (y/n): \").lower()\n",
        "  if choice != \"y\":\n",
        "    # Display rollerblades\n",
        "    print(\"\\nROLLERBLADES AVAILABLE ============================== \\n\")\n",
        "    for i, rollerblade in enumerate(rollerblades):\n",
        "      print(f\"\\nProduct {i+1} >>--\")\n",
        "      print(rollerblade)\n",
        "    break"
      ],
      "metadata": {
        "id": "sJQ6ufDKeo3q",
        "colab": {
          "base_uri": "https://localhost:8080/"
        },
        "outputId": "91504c13-cbca-425c-d0c9-72c60ad08219"
      },
      "execution_count": null,
      "outputs": [
        {
          "output_type": "stream",
          "name": "stdout",
          "text": [
            "\n",
            "[EDIT MODE]\n",
            "ENTER ROLLERBLADE DETAILS ============================== \n",
            "\n",
            "Product Id: P-167273\n",
            "\n",
            "ROLLERBLADE DETAILS: \n",
            "\n",
            "Product Id: P-167273\n",
            "            Brand: Rollerblade\n",
            "            Model: MACROBLADE 80 ABT\n",
            "            Rental Price: 25.0 USD/hour\n",
            "            Available Sizes: [6, 6.5, 7, 7.5, 8, 8.5, 9, 9.5, 10, 10, 10.5, 11, 11.5, 12, 12.5]\n",
            "            Color: Silver/Neon Yellow\n",
            "            Rating: 5.0\n",
            "\n",
            "Specification (edit): 1. Brand | 2. Model | 3. Rental Price | 4. Available Sizes | 5. Color: 3\n",
            "New Rental Price: 20\n",
            "\n",
            "rprice has been updated.\n",
            "\n",
            "Do you want to edit another rollerblade? (y/n): n\n",
            "\n",
            "ROLLERBLADES AVAILABLE ============================== \n",
            "\n",
            "\n",
            "Product 1 >>--\n",
            "Product Id: P-167273\n",
            "            Brand: Rollerblade\n",
            "            Model: MACROBLADE 80 ABT\n",
            "            Rental Price: 20.0 USD/hour\n",
            "            Available Sizes: [6, 6.5, 7, 7.5, 8, 8.5, 9, 9.5, 10, 10, 10.5, 11, 11.5, 12, 12.5]\n",
            "            Color: Silver/Neon Yellow\n",
            "            Rating: 5.0\n",
            "\n",
            "Product 2 >>--\n",
            "Product Id: P-230246\n",
            "            Brand: Rollerblade\n",
            "            Model: ADVANTAGE PRO XT\n",
            "            Rental Price: 15.0 USD/hour\n",
            "            Available Sizes: [7, 8, 9, 10, 11, 12, 13]\n",
            "            Color: Black/Red\n",
            "            Rating: 5.0\n",
            "\n",
            "Product 3 >>--\n",
            "Product Id: P-797504\n",
            "            Brand: Rollerblade\n",
            "            Model: ZETRABLADE\n",
            "            Rental Price: 13.0 USD/hour\n",
            "            Available Sizes: [6, 10, 11]\n",
            "            Color: Black/Silver\n",
            "            Rating: 4.7\n",
            "\n",
            "Product 4 >>--\n",
            "Product Id: P-284920\n",
            "            Brand: Rollerblade\n",
            "            Model: RB CRUISER\n",
            "            Rental Price: 13.0 USD/hour\n",
            "            Available Sizes: [5, 6, 7, 8, 10, 11, 12]\n",
            "            Color: Black/Neon Yellow\n",
            "            Rating: 3.8\n",
            "\n",
            "Product 5 >>--\n",
            "Product Id: P-525568\n",
            "            Brand: PowerSlide\n",
            "            Model: STELLAR 110\n",
            "            Rental Price: 10.0 USD/hour\n",
            "            Available Sizes: [7, 8, 9, 10, 11, 12, 13]\n",
            "            Color: Black/Red\n",
            "            Rating: 4.5\n",
            "\n",
            "Product 6 >>--\n",
            "Product Id: P-813743\n",
            "            Brand: PowerSlide\n",
            "            Model: NEXT PRO BLACK 80\n",
            "            Rental Price: 15.0 USD/hour\n",
            "            Available Sizes: [6, 10, 11]\n",
            "            Color: Black/White\n",
            "            Rating: 5.0\n",
            "\n",
            "Product 7 >>--\n",
            "Product Id: P-168253\n",
            "            Brand: Roces\n",
            "            Model: M12 LO UFS TEAM JUNO\n",
            "            Rental Price: 15.0 USD/hour\n",
            "            Available Sizes: [6, 6.5, 7, 7.5, 8, 8.5, 9, 9.5, 10, 10, 10.5, 11, 11.5, 12, 12.5, 13, 13.5]\n",
            "            Color: Orange/Grey\n",
            "            Rating: 5.0\n",
            "\n",
            "Product 8 >>--\n",
            "Product Id: P-242627\n",
            "            Brand: Rollerblade\n",
            "            Model: FORMULA 100\n",
            "            Rental Price: 10.0 USD/hour\n",
            "            Available Sizes: [7.0, 8.0, 9.0, 12.0]\n",
            "            Color: Black/Red\n",
            "            Rating: 4.0\n",
            "\n",
            "Product 9 >>--\n",
            "Product Id: P-249682\n",
            "            Brand: PowerSlide\n",
            "            Model: PHUZION RADON BLACK 80\n",
            "            Rental Price: 13.0 USD/hour\n",
            "            Available Sizes: [7.0, 8.0, 9.0, 10.0, 11.0, 12.0, 13.0]\n",
            "            Color: Black\n",
            "            Rating: 4.5\n",
            "\n",
            "Product 10 >>--\n",
            "Product Id: P-119827\n",
            "            Brand: Roces\n",
            "            Model: THREAD SALT-N-PEPA\n",
            "            Rental Price: 15.0 USD/hour\n",
            "            Available Sizes: [7.0, 8.0, 9.0, 10.0, 11.0, 12.0, 13.0]\n",
            "            Color: Grey/White\n",
            "            Rating: 5.0\n"
          ]
        }
      ]
    },
    {
      "cell_type": "markdown",
      "source": [
        "## Search a rollerblade"
      ],
      "metadata": {
        "id": "u0HP0O0dfEyz"
      }
    },
    {
      "cell_type": "code",
      "source": [
        "# Search rollerblade\n",
        "print(\"\\n[SEARCH MODE]\\nENTER ROLLERBLADE DETAILS ============================== \\n\")\n",
        "search_prod_id = \"P-\" + input(\"Product Id: P-\")\n",
        "found_rollerblade = search_items(rollerblades, search_prod_id, 'prod_id')\n",
        "\n",
        "if found_rollerblade:\n",
        "  print(\"\\nROLLERBLADE DETAILS: \\n\")\n",
        "  print(found_rollerblade)\n",
        "else:\n",
        "  print(f\"Rollerblade with product id {search_prod_id} not found!\")"
      ],
      "metadata": {
        "colab": {
          "base_uri": "https://localhost:8080/"
        },
        "id": "CWvm6M2vfJpV",
        "outputId": "a3e775fc-663e-4b99-dba1-f4e82660eed0"
      },
      "execution_count": null,
      "outputs": [
        {
          "output_type": "stream",
          "name": "stdout",
          "text": [
            "\n",
            "[SEARCH MODE]\n",
            "ENTER ROLLERBLADE DETAILS ============================== \n",
            "\n",
            "Product Id: P-167273\n",
            "\n",
            "ROLLERBLADE DETAILS: \n",
            "\n",
            "Product Id: P-167273\n",
            "            Brand: Rollerblade\n",
            "            Model: MACROBLADE 80 ABT\n",
            "            Rental Price: 20.0 USD/hour\n",
            "            Available Sizes: [6, 6.5, 7, 7.5, 8, 8.5, 9, 9.5, 10, 10, 10.5, 11, 11.5, 12, 12.5]\n",
            "            Color: Silver/Neon Yellow\n",
            "            Rating: 5.0\n"
          ]
        }
      ]
    },
    {
      "cell_type": "markdown",
      "source": [
        "## Sort rollerblades"
      ],
      "metadata": {
        "id": "YUP5D3S1fneJ"
      }
    },
    {
      "cell_type": "code",
      "source": [
        "# Sort rolleblades\n",
        "print(\"\\n[SORT MODE]\\nENTER ROLLERBLADE DETAILS ============================== \\n\")\n",
        "sort_attr_no = int(input(\"\\nSort Attribute: 1. Brand | 2. Model | 3. Rental Price | 4. Rating: \"))\n",
        "sort_type_no = int(input(\"\\nSort Type: 1. Ascending | 2. Descending: \"))\n",
        "\n",
        "# Sort attributes\n",
        "if(sort_attr_no == 1):\n",
        "  sort_attr = 'brand'\n",
        "elif(sort_attr_no == 2):\n",
        "  sort_attr = 'model'\n",
        "elif(sort_attr_no == 3):\n",
        "  sort_attr = 'rprice'\n",
        "elif(sort_attr_no == 4):\n",
        "  sort_attr = 'rating'\n",
        "\n",
        "# Sort type\n",
        "if(sort_type_no == 1):\n",
        "  asc = True\n",
        "else:\n",
        "  asc = False\n",
        "\n",
        "# Quick sort\n",
        "rollerblades = sort_items(rollerblades, sort_attr, asc)\n",
        "\n",
        "# Display rollerblades\n",
        "print(\"\\nROLLERBLADES AVAILABLE ============================== \\n\")\n",
        "for i, rollerblade in enumerate(rollerblades):\n",
        "  print(f\"\\nProduct {i+1} >>--\")\n",
        "  print(rollerblade)"
      ],
      "metadata": {
        "colab": {
          "base_uri": "https://localhost:8080/"
        },
        "id": "oBHg_OowfqVx",
        "outputId": "09e7fd82-1463-4abb-ba33-95c4fc2e0591"
      },
      "execution_count": null,
      "outputs": [
        {
          "output_type": "stream",
          "name": "stdout",
          "text": [
            "\n",
            "[SORT MODE]\n",
            "ENTER ROLLERBLADE DETAILS ============================== \n",
            "\n",
            "\n",
            "Sort Attribute: 1. Brand | 2. Model | 3. Rental Price | 4. Rating: 4\n",
            "\n",
            "Sort Type: 1. Ascending | 2. Descending: 2\n",
            "\n",
            "ROLLERBLADES AVAILABLE ============================== \n",
            "\n",
            "\n",
            "Product 1 >>--\n",
            "Product Id: P-167273\n",
            "            Brand: Rollerblade\n",
            "            Model: MACROBLADE 80 ABT\n",
            "            Rental Price: 20.0 USD/hour\n",
            "            Available Sizes: [6, 6.5, 7, 7.5, 8, 8.5, 9, 9.5, 10, 10, 10.5, 11, 11.5, 12, 12.5]\n",
            "            Color: Silver/Neon Yellow\n",
            "            Rating: 5.0\n",
            "\n",
            "Product 2 >>--\n",
            "Product Id: P-230246\n",
            "            Brand: Rollerblade\n",
            "            Model: ADVANTAGE PRO XT\n",
            "            Rental Price: 15.0 USD/hour\n",
            "            Available Sizes: [7, 8, 9, 10, 11, 12, 13]\n",
            "            Color: Black/Red\n",
            "            Rating: 5.0\n",
            "\n",
            "Product 3 >>--\n",
            "Product Id: P-813743\n",
            "            Brand: PowerSlide\n",
            "            Model: NEXT PRO BLACK 80\n",
            "            Rental Price: 15.0 USD/hour\n",
            "            Available Sizes: [6, 10, 11]\n",
            "            Color: Black/White\n",
            "            Rating: 5.0\n",
            "\n",
            "Product 4 >>--\n",
            "Product Id: P-168253\n",
            "            Brand: Roces\n",
            "            Model: M12 LO UFS TEAM JUNO\n",
            "            Rental Price: 15.0 USD/hour\n",
            "            Available Sizes: [6, 6.5, 7, 7.5, 8, 8.5, 9, 9.5, 10, 10, 10.5, 11, 11.5, 12, 12.5, 13, 13.5]\n",
            "            Color: Orange/Grey\n",
            "            Rating: 5.0\n",
            "\n",
            "Product 5 >>--\n",
            "Product Id: P-119827\n",
            "            Brand: Roces\n",
            "            Model: THREAD SALT-N-PEPA\n",
            "            Rental Price: 15.0 USD/hour\n",
            "            Available Sizes: [7.0, 8.0, 9.0, 10.0, 11.0, 12.0, 13.0]\n",
            "            Color: Grey/White\n",
            "            Rating: 5.0\n",
            "\n",
            "Product 6 >>--\n",
            "Product Id: P-797504\n",
            "            Brand: Rollerblade\n",
            "            Model: ZETRABLADE\n",
            "            Rental Price: 13.0 USD/hour\n",
            "            Available Sizes: [6, 10, 11]\n",
            "            Color: Black/Silver\n",
            "            Rating: 4.7\n",
            "\n",
            "Product 7 >>--\n",
            "Product Id: P-525568\n",
            "            Brand: PowerSlide\n",
            "            Model: STELLAR 110\n",
            "            Rental Price: 10.0 USD/hour\n",
            "            Available Sizes: [7, 8, 9, 10, 11, 12, 13]\n",
            "            Color: Black/Red\n",
            "            Rating: 4.5\n",
            "\n",
            "Product 8 >>--\n",
            "Product Id: P-249682\n",
            "            Brand: PowerSlide\n",
            "            Model: PHUZION RADON BLACK 80\n",
            "            Rental Price: 13.0 USD/hour\n",
            "            Available Sizes: [7.0, 8.0, 9.0, 10.0, 11.0, 12.0, 13.0]\n",
            "            Color: Black\n",
            "            Rating: 4.5\n",
            "\n",
            "Product 9 >>--\n",
            "Product Id: P-242627\n",
            "            Brand: Rollerblade\n",
            "            Model: FORMULA 100\n",
            "            Rental Price: 10.0 USD/hour\n",
            "            Available Sizes: [7.0, 8.0, 9.0, 12.0]\n",
            "            Color: Black/Red\n",
            "            Rating: 4.0\n",
            "\n",
            "Product 10 >>--\n",
            "Product Id: P-284920\n",
            "            Brand: Rollerblade\n",
            "            Model: RB CRUISER\n",
            "            Rental Price: 13.0 USD/hour\n",
            "            Available Sizes: [5, 6, 7, 8, 10, 11, 12]\n",
            "            Color: Black/Neon Yellow\n",
            "            Rating: 3.8\n"
          ]
        }
      ]
    },
    {
      "cell_type": "markdown",
      "source": [
        "## Delete a rollerblade"
      ],
      "metadata": {
        "id": "IqPv2b618Lzx"
      }
    },
    {
      "cell_type": "code",
      "source": [
        "# Delete rollerblade\n",
        "print(\"\\n[DELETE MODE]\\nENTER ROLLERBLADE DETAILS ============================== \\n\")\n",
        "del_prod_id = \"P-\" + input(\"Product Id: P-\")\n",
        "\n",
        "# Search rollerblade\n",
        "found_rollerblade = search_items(rollerblades, del_prod_id, 'prod_id')\n",
        "\n",
        "if found_rollerblade:\n",
        "  print(\"\\nROLLERBLADE DETAILS: \\n\")\n",
        "  print(found_rollerblade)\n",
        "  del_res = input(\"\\nAre you sure, want to delete the rollerblade? (y/n): \")\n",
        "  if(del_res == 'y'):\n",
        "    rollerblades.remove(found_rollerblade)\n",
        "    print(f\"\\nRollerblade with product id {del_prod_id} deleted successfully.\")\n",
        "  else:\n",
        "    pass\n",
        "else:\n",
        "  print(f\"\\nRollerblade with product id {del_prod_id} not found!\")\n",
        "\n",
        "# Display rollerblades\n",
        "print(\"\\nROLLERBLADES AVAILABLE ============================== \\n\")\n",
        "for i, rollerblade in enumerate(rollerblades):\n",
        "  print(f\"\\nProduct {i+1} >>--\")\n",
        "  print(rollerblade)"
      ],
      "metadata": {
        "colab": {
          "base_uri": "https://localhost:8080/"
        },
        "id": "btGMnzu88K1T",
        "outputId": "85f28a1c-7199-4bf1-c4a1-3351c04ff4f6"
      },
      "execution_count": null,
      "outputs": [
        {
          "output_type": "stream",
          "name": "stdout",
          "text": [
            "\n",
            "[DELETE MODE]\n",
            "ENTER ROLLERBLADE DETAILS ============================== \n",
            "\n",
            "Product Id: P-119827\n",
            "\n",
            "ROLLERBLADE DETAILS: \n",
            "\n",
            "Product Id: P-119827\n",
            "            Brand: Roces\n",
            "            Model: THREAD SALT-N-PEPA\n",
            "            Rental Price: 15.0 USD/hour\n",
            "            Available Sizes: [7.0, 8.0, 9.0, 10.0, 11.0, 12.0, 13.0]\n",
            "            Color: Grey/White\n",
            "            Rating: 5.0\n",
            "\n",
            "Are you sure, want to delete the rollerblade? (y/n): y\n",
            "\n",
            "Rollerblade with product id P-119827 deleted successfully.\n",
            "\n",
            "ROLLERBLADES AVAILABLE ============================== \n",
            "\n",
            "\n",
            "Product 1 >>--\n",
            "Product Id: P-167273\n",
            "            Brand: Rollerblade\n",
            "            Model: MACROBLADE 80 ABT\n",
            "            Rental Price: 20.0 USD/hour\n",
            "            Available Sizes: [6, 6.5, 7, 7.5, 8, 8.5, 9, 9.5, 10, 10, 10.5, 11, 11.5, 12, 12.5]\n",
            "            Color: Silver/Neon Yellow\n",
            "            Rating: 5.0\n",
            "\n",
            "Product 2 >>--\n",
            "Product Id: P-230246\n",
            "            Brand: Rollerblade\n",
            "            Model: ADVANTAGE PRO XT\n",
            "            Rental Price: 15.0 USD/hour\n",
            "            Available Sizes: [7, 8, 9, 10, 11, 12, 13]\n",
            "            Color: Black/Red\n",
            "            Rating: 5.0\n",
            "\n",
            "Product 3 >>--\n",
            "Product Id: P-813743\n",
            "            Brand: PowerSlide\n",
            "            Model: NEXT PRO BLACK 80\n",
            "            Rental Price: 15.0 USD/hour\n",
            "            Available Sizes: [6, 10, 11]\n",
            "            Color: Black/White\n",
            "            Rating: 5.0\n",
            "\n",
            "Product 4 >>--\n",
            "Product Id: P-168253\n",
            "            Brand: Roces\n",
            "            Model: M12 LO UFS TEAM JUNO\n",
            "            Rental Price: 15.0 USD/hour\n",
            "            Available Sizes: [6, 6.5, 7, 7.5, 8, 8.5, 9, 9.5, 10, 10, 10.5, 11, 11.5, 12, 12.5, 13, 13.5]\n",
            "            Color: Orange/Grey\n",
            "            Rating: 5.0\n",
            "\n",
            "Product 5 >>--\n",
            "Product Id: P-797504\n",
            "            Brand: Rollerblade\n",
            "            Model: ZETRABLADE\n",
            "            Rental Price: 13.0 USD/hour\n",
            "            Available Sizes: [6, 10, 11]\n",
            "            Color: Black/Silver\n",
            "            Rating: 4.7\n",
            "\n",
            "Product 6 >>--\n",
            "Product Id: P-525568\n",
            "            Brand: PowerSlide\n",
            "            Model: STELLAR 110\n",
            "            Rental Price: 10.0 USD/hour\n",
            "            Available Sizes: [7, 8, 9, 10, 11, 12, 13]\n",
            "            Color: Black/Red\n",
            "            Rating: 4.5\n",
            "\n",
            "Product 7 >>--\n",
            "Product Id: P-249682\n",
            "            Brand: PowerSlide\n",
            "            Model: PHUZION RADON BLACK 80\n",
            "            Rental Price: 13.0 USD/hour\n",
            "            Available Sizes: [7.0, 8.0, 9.0, 10.0, 11.0, 12.0, 13.0]\n",
            "            Color: Black\n",
            "            Rating: 4.5\n",
            "\n",
            "Product 8 >>--\n",
            "Product Id: P-242627\n",
            "            Brand: Rollerblade\n",
            "            Model: FORMULA 100\n",
            "            Rental Price: 10.0 USD/hour\n",
            "            Available Sizes: [7.0, 8.0, 9.0, 12.0]\n",
            "            Color: Black/Red\n",
            "            Rating: 4.0\n",
            "\n",
            "Product 9 >>--\n",
            "Product Id: P-284920\n",
            "            Brand: Rollerblade\n",
            "            Model: RB CRUISER\n",
            "            Rental Price: 13.0 USD/hour\n",
            "            Available Sizes: [5, 6, 7, 8, 10, 11, 12]\n",
            "            Color: Black/Neon Yellow\n",
            "            Rating: 3.8\n"
          ]
        }
      ]
    },
    {
      "cell_type": "markdown",
      "source": [
        "# Customer class"
      ],
      "metadata": {
        "id": "GVRcNT12-NVP"
      }
    },
    {
      "cell_type": "markdown",
      "source": [
        "## Class definition\n",
        "\n",
        "Attribute details\n",
        "```\n",
        "cust_id    customer id\n",
        "fname      customer first name\n",
        "lname      customer last name\n",
        "age        customer age\n",
        "email      customer email\n",
        "phone      customer phone\n",
        "```"
      ],
      "metadata": {
        "id": "ygT7CQ7OyGVo"
      }
    },
    {
      "cell_type": "code",
      "source": [
        "#Customer class\n",
        "class Customer:\n",
        "  # Constructor\n",
        "  def __init__(self, cust_id, fname, lname, age, email, phone):\n",
        "    self.cust_id = cust_id\n",
        "    self.fname = fname\n",
        "    self.lname = lname\n",
        "    self.age = age\n",
        "    self.email = email\n",
        "    self.phone = phone\n",
        "\n",
        "  # Display customer details\n",
        "  def __str__(self):\n",
        "    return f\"Customer Id: {self.cust_id}\\n\\\n",
        "            First Name: {self.fname}\\n\\\n",
        "            Last Name: {self.lname}\\n\\\n",
        "            Age: {self.age}\\n\\\n",
        "            Email: {self.email}\\n\\\n",
        "            Phone: {self.phone}\"\n",
        "\n",
        "  # Edit customer details\n",
        "  def edit_customer(self, attribute, new_value):\n",
        "    if hasattr(self, attribute):\n",
        "      setattr(self, attribute, new_value)\n",
        "      print(f\"\\n{attribute} has been updated.\")\n",
        "    else:\n",
        "      print(\"\\nInvalid attribute! Please provide a valid attribute to edit.\")\n",
        "\n",
        "customers = []"
      ],
      "metadata": {
        "id": "qTrBO0Ie-PD1"
      },
      "execution_count": null,
      "outputs": []
    },
    {
      "cell_type": "markdown",
      "source": [
        "# Rental class"
      ],
      "metadata": {
        "id": "60vfyIVrjwCm"
      }
    },
    {
      "cell_type": "markdown",
      "source": [
        "## Class definition\n",
        "\n",
        "Attribute details\n",
        "```\n",
        "book_ref        booking reference number\n",
        "customer        customer object\n",
        "rollerblade     rollerblade object\n",
        "start_datetime  start of rollerblade rental\n",
        "end_datetime    end of rollerblade rental\n",
        "rental_hours    rental hours\n",
        "rental_price    total rental price\n",
        "```"
      ],
      "metadata": {
        "id": "9ErmCfb3yLZ7"
      }
    },
    {
      "cell_type": "code",
      "source": [
        "# Rental class\n",
        "class Rental:\n",
        "  # Constructor\n",
        "  def __init__(self, rent_ref, customer, rollerblade, start_datetime, end_datetime, rental_hours, rental_price):\n",
        "    self.rent_ref = rent_ref\n",
        "    self.customer = customer\n",
        "    self.rollerblade = rollerblade\n",
        "    self.start_datetime = start_datetime\n",
        "    self.end_datetime = end_datetime\n",
        "    self.rental_hours = rental_hours\n",
        "    self.rental_price = rental_price\n",
        "\n",
        "  # Display rental details\n",
        "  def __str__(self):\n",
        "    return f\"Rental Reference No.: {self.rent_ref}\\n\\\n",
        "            Rollerblade: Product Id - {self.rollerblade.prod_id}, Brand - {self.rollerblade.brand}, Model - {self.rollerblade.model}, Size - {self.rollerblade.sizes}, Color - {self.rollerblade.color}\\n\\\n",
        "            Customer: First Name - {self.customer.fname}, Last Name - {self.customer.lname}, Age - {self.customer.age}, Email - {self.customer.email}, Phone - {self.customer.phone}\\n\\\n",
        "            Start DateTime: {self.start_datetime}\\n\\\n",
        "            End DateTime: {self.end_datetime}\\n\\\n",
        "            Hours Rented: {self.rental_hours} hrs\\n\\\n",
        "            Total Charged: ${self.rental_price}\"\n",
        "\n",
        "  # Edit rental details\n",
        "  def edit_rental(self, new_rent_hours, new_rental_price, new_end_datetime):\n",
        "    setattr(self, 'rental_hours', new_rent_hours)\n",
        "    setattr(self, 'rental_price', new_rental_price)\n",
        "    setattr(self, 'end_datetime', new_end_datetime)\n",
        "    print(f\"\\nRental details has been updated.\")\n",
        "\n",
        "  # Return method\n",
        "  def return_rollerblade(self, return_datetime):\n",
        "    late_hours = int((return_datetime - datetime.strptime(self.end_datetime, '%Y-%m-%d %H:%M:%S')).total_seconds() / 3600)\n",
        "    late_charge_per_hour = 5\n",
        "    late_charge = round((max(0, late_hours) * late_charge_per_hour), 2)\n",
        "    total_charge = round((self.rental_price + late_charge), 2)\n",
        "\n",
        "    print(f\"Rental Reference No.: {self.rent_ref} (Returned)\\n\\\n",
        "            Rollerblade: Product Id - {self.rollerblade.prod_id}, Brand - {self.rollerblade.brand}, Model - {self.rollerblade.model}, Size - {self.rollerblade.sizes}, Color - {self.rollerblade.color}\\n\\\n",
        "            Customer: First Name - {self.customer.fname}, Last Name - {self.customer.lname}, Age - {self.customer.age}, Email - {self.customer.email}, Phone - {self.customer.phone}\\n\\\n",
        "            Start DateTime: {self.start_datetime}\\n\\\n",
        "            End DateTime: {self.end_datetime}\\n\\\n",
        "            Hours Rented: {self.rental_hours} hrs\\n\\\n",
        "            Total Charged: ${self.rental_price}\\n\\\n",
        "            Actual Return DateTime: {return_datetime}\\n\\\n",
        "            Late Hours: {late_hours} hrs\\n\\\n",
        "            Late Return Charge: ${late_charge}\\n\\\n",
        "            Total Charged: ${total_charge}\")\n",
        "    \n",
        "rentals = []"
      ],
      "metadata": {
        "id": "KxfaAMp0kEfR"
      },
      "execution_count": null,
      "outputs": []
    },
    {
      "cell_type": "code",
      "source": [
        "# Quick entry for few customers/rentals\n",
        "rented_rollerblade = Rollerblade('P-225034', 'Rollerblade', 'MACROBLADE 80 ABT', 15.0, 8.0, 'Silver/Neon Yellow', 5.0)\n",
        "customer = Customer(f\"C-{generate_unique_id()}\", 'John', 'McGrath', 29, 'jmcgrath@gmail.com', '(445)-920-4993')\n",
        "customers.append(customer)\n",
        "rental = Rental(f\"B-{generate_unique_id()}\", customer, rented_rollerblade, '2023-05-14 17:55:16', '2023-05-14 18:55:16', 2, 30.0)\n",
        "rentals.append(rental)\n",
        "\n",
        "rented_rollerblade = Rollerblade('P-978993', 'Rollerblade', 'ADVANTAGE PRO XT', 15.0, 12.0, 'Black/Red', 5.0)\n",
        "customer = Customer(f\"C-{generate_unique_id()}\", 'Jennifer', 'Kyriakou', 26, 'jkyriakou@gmail.com', '(664)-903-2929')\n",
        "customers.append(customer)\n",
        "rental = Rental(f\"B-{generate_unique_id()}\", customer, rented_rollerblade, '2023-05-14 18:05:16', '2023-05-14 19:05:16', 1, 15.0)\n",
        "rentals.append(rental)\n",
        "\n",
        "# Left for manual entry\n",
        "#Rollerblade('P-243154', 'Rollerblade', 'ZETRABLADE', 13.0, 10.0, 'Black/Silver', 4.7)\n",
        "#Customer(f\"C-{generate_unique_id()}\", 'Elizabeth', 'Mathews', 23, 'emathews@gmail.com', '(658)-924-1120')\n",
        "#Rental(f\"B-{generate_unique_id()}\", customer, rented_rollerblade, '2023-05-14 18:10:16', '2023-05-14 19:10:16', 1, 13.0)"
      ],
      "metadata": {
        "id": "Lm3zZ3cobjzQ"
      },
      "execution_count": null,
      "outputs": []
    },
    {
      "cell_type": "markdown",
      "source": [
        "## Insert/Display rental details"
      ],
      "metadata": {
        "id": "y1uyiuoMGUDi"
      }
    },
    {
      "cell_type": "code",
      "source": [
        "# Loop to take user inputs and store rental details\n",
        "while True:\n",
        "  try:\n",
        "    print(\"\\n[INSERT MODE]\\nENTER RENTAL DETAILS ============================== \\n\")\n",
        "\n",
        "    # Display rollerblades\n",
        "    print(\"\\nROLLERBLADES AVAILABLE ============================== \\n\")\n",
        "    for i, rollerblade in enumerate(rollerblades):\n",
        "      print(f\"\\nProduct {i+1} >>--\")\n",
        "      print(rollerblade)\n",
        "\n",
        "    # User selection\n",
        "    print(\"\\nROLLERBLADE DETAILS ============================== \\n\")\n",
        "    rent_prod_id = \"P-\" + input(\"Product Id: P-\")\n",
        "\n",
        "    # Search rollerblade\n",
        "    found_rollerblade = search_items(rollerblades, rent_prod_id, 'prod_id')\n",
        "\n",
        "    if found_rollerblade:\n",
        "      # Select size\n",
        "      rent_size = float(input(\"Select size: \"))\n",
        "      # Check if size available\n",
        "      if rent_size not in found_rollerblade.sizes:\n",
        "        print(\"Rollerblade size not available!\")\n",
        "    else:\n",
        "      print(\"Rollerblade not found!\")\n",
        "\n",
        "    # Get rolleblade details\n",
        "    rent_brand = found_rollerblade.brand\n",
        "    rent_model = found_rollerblade.model\n",
        "    rent_rprice = found_rollerblade.rprice\n",
        "    rent_color = found_rollerblade.color\n",
        "    rent_rating = found_rollerblade.rating\n",
        "    # Rollerblade object\n",
        "    rented_rollerblade = Rollerblade(rent_prod_id, rent_brand, rent_model, rent_rprice, [rent_size], rent_color, rent_rating)\n",
        "\n",
        "    # Get customer details\n",
        "    print(\"\\nCUSTOMER DETAILS ============================== \\n\")\n",
        "    cust_id = f\"C-{generate_unique_id()}\"\n",
        "    fname = input(\"Customer First Name: \")\n",
        "    lname = input(\"Customer Last Name: \")\n",
        "    age = int(input(\"Customer Age: \"))\n",
        "    email = input(\"Customer Email: \")\n",
        "    phone = input(\"Customer Phone: \")\n",
        "    # Customer object\n",
        "    customer = Customer(cust_id, fname, lname, age, email, phone)\n",
        "    # Add customers\n",
        "    customers.append(customer)\n",
        "\n",
        "    # Get rental details\n",
        "    print(\"\\nRENTAL DETAILS ============================== \\n\")\n",
        "    rent_ref = f\"B-{generate_unique_id()}\"\n",
        "    rent_hours = int(input(\"Rental Hours: \"))\n",
        "    start_datetime = datetime.now().strftime(\"%Y-%m-%d %H:%M:%S\")\n",
        "    end_datetime = (datetime.now() + timedelta(hours=rent_hours)).strftime(\"%Y-%m-%d %H:%M:%S\")\n",
        "    total_rent = rent_hours * rent_rprice\n",
        "    # Rental object\n",
        "    rental = Rental(rent_ref, customer, rented_rollerblade, start_datetime, end_datetime, rent_hours, total_rent)\n",
        "    # Add rentals\n",
        "    rentals.append(rental)\n",
        "    print(\"\\nRent successfull.\\n\")\n",
        "\n",
        "    # Display rentals\n",
        "    print(\"\\nALL RENTALS ============================== \\n\")\n",
        "    for i, rental in enumerate(rentals):\n",
        "      print(f\"\\nRent {i+1} >>--\")\n",
        "      print(rental)\n",
        "\n",
        "  except ValueError as e:\n",
        "    print(\"Error:\", e)\n",
        "\n",
        "  choice = input(\"\\nDo you want to rent another rollerblade? (y/n): \").lower()\n",
        "  if choice != \"y\":\n",
        "    break"
      ],
      "metadata": {
        "colab": {
          "base_uri": "https://localhost:8080/"
        },
        "id": "qz_il9a7UZE_",
        "outputId": "d8108e76-19d6-4a96-962d-861941dfcd5a"
      },
      "execution_count": null,
      "outputs": [
        {
          "name": "stdout",
          "output_type": "stream",
          "text": [
            "\n",
            "[INSERT MODE]\n",
            "ENTER RENTAL DETAILS ============================== \n",
            "\n",
            "\n",
            "ROLLERBLADES AVAILABLE ============================== \n",
            "\n",
            "\n",
            "Product 1 >>--\n",
            "Product Id: P-167273\n",
            "            Brand: Rollerblade\n",
            "            Model: MACROBLADE 80 ABT\n",
            "            Rental Price: 20.0 USD/hour\n",
            "            Available Sizes: [6, 6.5, 7, 7.5, 8, 8.5, 9, 9.5, 10, 10, 10.5, 11, 11.5, 12, 12.5]\n",
            "            Color: Silver/Neon Yellow\n",
            "            Rating: 5.0\n",
            "\n",
            "Product 2 >>--\n",
            "Product Id: P-230246\n",
            "            Brand: Rollerblade\n",
            "            Model: ADVANTAGE PRO XT\n",
            "            Rental Price: 15.0 USD/hour\n",
            "            Available Sizes: [7, 8, 9, 10, 11, 12, 13]\n",
            "            Color: Black/Red\n",
            "            Rating: 5.0\n",
            "\n",
            "Product 3 >>--\n",
            "Product Id: P-813743\n",
            "            Brand: PowerSlide\n",
            "            Model: NEXT PRO BLACK 80\n",
            "            Rental Price: 15.0 USD/hour\n",
            "            Available Sizes: [6, 10, 11]\n",
            "            Color: Black/White\n",
            "            Rating: 5.0\n",
            "\n",
            "Product 4 >>--\n",
            "Product Id: P-168253\n",
            "            Brand: Roces\n",
            "            Model: M12 LO UFS TEAM JUNO\n",
            "            Rental Price: 15.0 USD/hour\n",
            "            Available Sizes: [6, 6.5, 7, 7.5, 8, 8.5, 9, 9.5, 10, 10, 10.5, 11, 11.5, 12, 12.5, 13, 13.5]\n",
            "            Color: Orange/Grey\n",
            "            Rating: 5.0\n",
            "\n",
            "Product 5 >>--\n",
            "Product Id: P-797504\n",
            "            Brand: Rollerblade\n",
            "            Model: ZETRABLADE\n",
            "            Rental Price: 13.0 USD/hour\n",
            "            Available Sizes: [6, 10, 11]\n",
            "            Color: Black/Silver\n",
            "            Rating: 4.7\n",
            "\n",
            "Product 6 >>--\n",
            "Product Id: P-525568\n",
            "            Brand: PowerSlide\n",
            "            Model: STELLAR 110\n",
            "            Rental Price: 10.0 USD/hour\n",
            "            Available Sizes: [7, 8, 9, 10, 11, 12, 13]\n",
            "            Color: Black/Red\n",
            "            Rating: 4.5\n",
            "\n",
            "Product 7 >>--\n",
            "Product Id: P-249682\n",
            "            Brand: PowerSlide\n",
            "            Model: PHUZION RADON BLACK 80\n",
            "            Rental Price: 13.0 USD/hour\n",
            "            Available Sizes: [7.0, 8.0, 9.0, 10.0, 11.0, 12.0, 13.0]\n",
            "            Color: Black\n",
            "            Rating: 4.5\n",
            "\n",
            "Product 8 >>--\n",
            "Product Id: P-242627\n",
            "            Brand: Rollerblade\n",
            "            Model: FORMULA 100\n",
            "            Rental Price: 10.0 USD/hour\n",
            "            Available Sizes: [7.0, 8.0, 9.0, 12.0]\n",
            "            Color: Black/Red\n",
            "            Rating: 4.0\n",
            "\n",
            "Product 9 >>--\n",
            "Product Id: P-284920\n",
            "            Brand: Rollerblade\n",
            "            Model: RB CRUISER\n",
            "            Rental Price: 13.0 USD/hour\n",
            "            Available Sizes: [5, 6, 7, 8, 10, 11, 12]\n",
            "            Color: Black/Neon Yellow\n",
            "            Rating: 3.8\n",
            "\n",
            "ROLLERBLADE DETAILS ============================== \n",
            "\n",
            "Product Id: P-797504\n",
            "Select size: 10\n",
            "\n",
            "CUSTOMER DETAILS ============================== \n",
            "\n",
            "Customer First Name: Elizabeth\n",
            "Customer Last Name: Mathews\n",
            "Customer Age: 23\n",
            "Customer Email: emathews@gmail.com\n",
            "Customer Phone: (658)-924-1120\n",
            "\n",
            "RENTAL DETAILS ============================== \n",
            "\n",
            "Rental Hours: 2\n",
            "\n",
            "Rent successfull.\n",
            "\n",
            "\n",
            "ALL RENTALS ============================== \n",
            "\n",
            "\n",
            "Rent 1 >>--\n",
            "Rental Reference No.: B-133749\n",
            "            Rollerblade: Product Id - P-225034, Brand - Rollerblade, Model - MACROBLADE 80 ABT, Size - 8.0, Color - Silver/Neon Yellow\n",
            "            Customer: First Name - John, Last Name - McGrath, Age - 29, Email - jmcgrath@gmail.com, Phone - (445)-920-4993\n",
            "            Start DateTime: 2023-05-14 17:55:16\n",
            "            End DateTime: 2023-05-14 18:55:16\n",
            "            Hours Rented: 2 hrs\n",
            "            Total Charged: $30.0\n",
            "\n",
            "Rent 2 >>--\n",
            "Rental Reference No.: B-168414\n",
            "            Rollerblade: Product Id - P-978993, Brand - Rollerblade, Model - ADVANTAGE PRO XT, Size - 12.0, Color - Black/Red\n",
            "            Customer: First Name - Jennifer, Last Name - Kyriakou, Age - 26, Email - jkyriakou@gmail.com, Phone - (664)-903-2929\n",
            "            Start DateTime: 2023-05-14 18:05:16\n",
            "            End DateTime: 2023-05-14 19:05:16\n",
            "            Hours Rented: 1 hrs\n",
            "            Total Charged: $15.0\n",
            "\n",
            "Rent 3 >>--\n",
            "Rental Reference No.: B-229520\n",
            "            Rollerblade: Product Id - P-797504, Brand - Rollerblade, Model - ZETRABLADE, Size - [10.0], Color - Black/Silver\n",
            "            Customer: First Name - Elizabeth, Last Name - Mathews, Age - 23, Email - emathews@gmail.com, Phone - (658)-924-1120\n",
            "            Start DateTime: 2023-05-15 22:50:30\n",
            "            End DateTime: 2023-05-16 00:50:30\n",
            "            Hours Rented: 2 hrs\n",
            "            Total Charged: $26.0\n",
            "\n",
            "Do you want to rent another rollerblade? (y/n): n\n"
          ]
        }
      ]
    },
    {
      "cell_type": "markdown",
      "source": [
        "## Edit/Display rental details"
      ],
      "metadata": {
        "id": "kZ6hzgGK97C2"
      }
    },
    {
      "cell_type": "code",
      "source": [
        "# Loop to take user inputs and edit rollerblade details\n",
        "while True:\n",
        "  try:\n",
        "    print(\"\\n[EDIT MODE]\\nENTER RENTAL DETAILS ============================== \\n\")\n",
        "    edit_rent_ref = \"B-\" + input(\"Rental Reference No.: B-\")\n",
        "\n",
        "    # Search rental\n",
        "    found_rental = search_items(rentals, edit_rent_ref, 'rent_ref')\n",
        "\n",
        "    if found_rental:\n",
        "      # Search rollerblade\n",
        "      found_rollerblade = search_items(rollerblades, found_rental.rollerblade.prod_id, 'prod_id')\n",
        "\n",
        "      if found_rollerblade:\n",
        "        exist_rprice = found_rollerblade.rprice\n",
        "\n",
        "      print(\"\\nRENTAL DETAILS: \\n\")\n",
        "      print(found_rental)\n",
        "      edit_attr_no = int(input(\"\\nSpecification (edit): 1. Hours Rented: \"))\n",
        "      if(edit_attr_no == 1):\n",
        "        new_rent_hours = int(input(\"New Hours Rented: \"))\n",
        "        new_rental_price = new_rent_hours * exist_rprice\n",
        "        new_end_datetime = (datetime.strptime(found_rental.start_datetime, '%Y-%m-%d %H:%M:%S') + timedelta(hours=new_rent_hours)).strftime(\"%Y-%m-%d %H:%M:%S\")\n",
        "        found_rental.edit_rental(new_rent_hours, new_rental_price, new_end_datetime)\n",
        "    else:\n",
        "      print(\"Rental details not found!\")\n",
        "\n",
        "  except ValueError as e:\n",
        "    print(\"Error:\", e)\n",
        "\n",
        "  choice = input(\"\\nDo you want to edit another rental? (y/n): \").lower()\n",
        "  if choice != \"y\":\n",
        "    # Display rentals\n",
        "    print(\"\\nALL RENTALS ============================== \\n\")\n",
        "    for i, rental in enumerate(rentals):\n",
        "      print(f\"\\nRent {i+1} >>--\")\n",
        "      print(rental)\n",
        "    break"
      ],
      "metadata": {
        "colab": {
          "base_uri": "https://localhost:8080/"
        },
        "id": "MSrFCZkBfedY",
        "outputId": "977e48ef-6fcf-4e47-a61e-0e653c8b2696"
      },
      "execution_count": null,
      "outputs": [
        {
          "output_type": "stream",
          "name": "stdout",
          "text": [
            "\n",
            "[EDIT MODE]\n",
            "ENTER RENTAL DETAILS ============================== \n",
            "\n",
            "Rental Reference No.: B-229520\n",
            "\n",
            "RENTAL DETAILS: \n",
            "\n",
            "Rental Reference No.: B-229520\n",
            "            Rollerblade: Product Id - P-797504, Brand - Rollerblade, Model - ZETRABLADE, Size - [10.0], Color - Black/Silver\n",
            "            Customer: First Name - Elizabeth, Last Name - Mathews, Age - 23, Email - emathews@gmail.com, Phone - (658)-924-1120\n",
            "            Start DateTime: 2023-05-15 22:50:30\n",
            "            End DateTime: 2023-05-16 00:50:30\n",
            "            Hours Rented: 2 hrs\n",
            "            Total Charged: $26.0\n",
            "\n",
            "Specification (edit): 1. Hours Rented: 1\n",
            "New Hours Rented: 1\n",
            "\n",
            "Rental details has been updated.\n",
            "\n",
            "Do you want to edit another rental? (y/n): n\n",
            "\n",
            "ALL RENTALS ============================== \n",
            "\n",
            "\n",
            "Rent 1 >>--\n",
            "Rental Reference No.: B-133749\n",
            "            Rollerblade: Product Id - P-225034, Brand - Rollerblade, Model - MACROBLADE 80 ABT, Size - 8.0, Color - Silver/Neon Yellow\n",
            "            Customer: First Name - John, Last Name - McGrath, Age - 29, Email - jmcgrath@gmail.com, Phone - (445)-920-4993\n",
            "            Start DateTime: 2023-05-14 17:55:16\n",
            "            End DateTime: 2023-05-14 18:55:16\n",
            "            Hours Rented: 2 hrs\n",
            "            Total Charged: $30.0\n",
            "\n",
            "Rent 2 >>--\n",
            "Rental Reference No.: B-168414\n",
            "            Rollerblade: Product Id - P-978993, Brand - Rollerblade, Model - ADVANTAGE PRO XT, Size - 12.0, Color - Black/Red\n",
            "            Customer: First Name - Jennifer, Last Name - Kyriakou, Age - 26, Email - jkyriakou@gmail.com, Phone - (664)-903-2929\n",
            "            Start DateTime: 2023-05-14 18:05:16\n",
            "            End DateTime: 2023-05-14 19:05:16\n",
            "            Hours Rented: 1 hrs\n",
            "            Total Charged: $15.0\n",
            "\n",
            "Rent 3 >>--\n",
            "Rental Reference No.: B-229520\n",
            "            Rollerblade: Product Id - P-797504, Brand - Rollerblade, Model - ZETRABLADE, Size - [10.0], Color - Black/Silver\n",
            "            Customer: First Name - Elizabeth, Last Name - Mathews, Age - 23, Email - emathews@gmail.com, Phone - (658)-924-1120\n",
            "            Start DateTime: 2023-05-15 22:50:30\n",
            "            End DateTime: 2023-05-15 23:50:30\n",
            "            Hours Rented: 1 hrs\n",
            "            Total Charged: $13.0\n"
          ]
        }
      ]
    },
    {
      "cell_type": "markdown",
      "source": [
        "## Search a rental"
      ],
      "metadata": {
        "id": "LAedpWeXo8No"
      }
    },
    {
      "cell_type": "code",
      "source": [
        "# Search rental\n",
        "print(\"\\n[SEARCH MODE]\\nENTER RENTAL DETAILS ============================== \\n\")\n",
        "search_rent_ref = \"B-\" + input(\"Rental Reference No.: B-\")\n",
        "found_rental = search_items(rentals, search_rent_ref, 'rent_ref')\n",
        "\n",
        "if found_rental:\n",
        "  print(\"\\nRENTAL DETAILS: \\n\")\n",
        "  print(found_rental)\n",
        "else:\n",
        "  print(f\"Rental details with reference no. {search_rent_ref} not found!\")"
      ],
      "metadata": {
        "colab": {
          "base_uri": "https://localhost:8080/"
        },
        "id": "YG8jxTrHpBrY",
        "outputId": "af137381-5bfa-412f-9ae9-965aa8088c57"
      },
      "execution_count": null,
      "outputs": [
        {
          "output_type": "stream",
          "name": "stdout",
          "text": [
            "\n",
            "[SEARCH MODE]\n",
            "ENTER RENTAL DETAILS ============================== \n",
            "\n",
            "Rental Reference No.: B-229520\n",
            "\n",
            "RENTAL DETAILS: \n",
            "\n",
            "Rental Reference No.: B-229520\n",
            "            Rollerblade: Product Id - P-797504, Brand - Rollerblade, Model - ZETRABLADE, Size - [10.0], Color - Black/Silver\n",
            "            Customer: First Name - Elizabeth, Last Name - Mathews, Age - 23, Email - emathews@gmail.com, Phone - (658)-924-1120\n",
            "            Start DateTime: 2023-05-15 22:50:30\n",
            "            End DateTime: 2023-05-15 23:50:30\n",
            "            Hours Rented: 1 hrs\n",
            "            Total Charged: $13.0\n"
          ]
        }
      ]
    },
    {
      "cell_type": "markdown",
      "source": [
        "## Sort rentals"
      ],
      "metadata": {
        "id": "0BoYMnXiqm2O"
      }
    },
    {
      "cell_type": "code",
      "source": [
        "# Sort rentals\n",
        "print(\"\\n[SORT MODE]\\nENTER RENTAL DETAILS ==============================\")\n",
        "sort_attr_no = int(input(\"\\nSort Attribute: 1. Start Datetime | 2. End Datetime | 3. Hours Rented | 4. Total Charged: \"))\n",
        "sort_type_no = int(input(\"\\nSort Type: 1. Ascending | 2. Descending: \"))\n",
        "\n",
        "# Sort attributes\n",
        "if(sort_attr_no == 1):\n",
        "  sort_attr = 'start_datetime'\n",
        "elif(sort_attr_no == 2):\n",
        "  sort_attr = 'end_datetime'\n",
        "elif(sort_attr_no == 3):\n",
        "  sort_attr = 'rental_hours'\n",
        "elif(sort_attr_no == 4):\n",
        "  sort_attr = 'rental_price'\n",
        "\n",
        "# Sort type\n",
        "if(sort_type_no == 1):\n",
        "  asc = True\n",
        "else:\n",
        "  asc = False\n",
        "\n",
        "# Quick sort\n",
        "rentals = sort_items(rentals, sort_attr, asc)\n",
        "\n",
        "# Display rollerblades\n",
        "print(\"\\nALL RENTALS ============================== \\n\")\n",
        "for i, rental in enumerate(rentals):\n",
        "  print(f\"\\nRental {i+1} >>--\")\n",
        "  print(rental)"
      ],
      "metadata": {
        "colab": {
          "base_uri": "https://localhost:8080/"
        },
        "id": "8FqJAoslqxn1",
        "outputId": "aded3fae-c526-4ac7-c9ce-26a7e40f90c8"
      },
      "execution_count": null,
      "outputs": [
        {
          "output_type": "stream",
          "name": "stdout",
          "text": [
            "\n",
            "[SORT MODE]\n",
            "ENTER RENTAL DETAILS ==============================\n",
            "\n",
            "Sort Attribute: 1. Start Datetime | 2. End Datetime | 3. Hours Rented | 4. Total Charged: 2\n",
            "\n",
            "Sort Type: 1. Ascending | 2. Descending: 1\n",
            "\n",
            "ALL RENTALS ============================== \n",
            "\n",
            "\n",
            "Rental 1 >>--\n",
            "Rental Reference No.: B-133749\n",
            "            Rollerblade: Product Id - P-225034, Brand - Rollerblade, Model - MACROBLADE 80 ABT, Size - 8.0, Color - Silver/Neon Yellow\n",
            "            Customer: First Name - John, Last Name - McGrath, Age - 29, Email - jmcgrath@gmail.com, Phone - (445)-920-4993\n",
            "            Start DateTime: 2023-05-14 17:55:16\n",
            "            End DateTime: 2023-05-14 18:55:16\n",
            "            Hours Rented: 2 hrs\n",
            "            Total Charged: $30.0\n",
            "\n",
            "Rental 2 >>--\n",
            "Rental Reference No.: B-168414\n",
            "            Rollerblade: Product Id - P-978993, Brand - Rollerblade, Model - ADVANTAGE PRO XT, Size - 12.0, Color - Black/Red\n",
            "            Customer: First Name - Jennifer, Last Name - Kyriakou, Age - 26, Email - jkyriakou@gmail.com, Phone - (664)-903-2929\n",
            "            Start DateTime: 2023-05-14 18:05:16\n",
            "            End DateTime: 2023-05-14 19:05:16\n",
            "            Hours Rented: 1 hrs\n",
            "            Total Charged: $15.0\n",
            "\n",
            "Rental 3 >>--\n",
            "Rental Reference No.: B-229520\n",
            "            Rollerblade: Product Id - P-797504, Brand - Rollerblade, Model - ZETRABLADE, Size - [10.0], Color - Black/Silver\n",
            "            Customer: First Name - Elizabeth, Last Name - Mathews, Age - 23, Email - emathews@gmail.com, Phone - (658)-924-1120\n",
            "            Start DateTime: 2023-05-15 22:50:30\n",
            "            End DateTime: 2023-05-15 23:50:30\n",
            "            Hours Rented: 1 hrs\n",
            "            Total Charged: $13.0\n"
          ]
        }
      ]
    },
    {
      "cell_type": "markdown",
      "source": [
        "## Return rentals"
      ],
      "metadata": {
        "id": "jhWwwdy1ueV2"
      }
    },
    {
      "cell_type": "code",
      "source": [
        "# Loop to take user inputs and return rollerblade\n",
        "while True:\n",
        "  try:\n",
        "    print(\"\\n[RETURN MODE]\\nENTER RENTAL DETAILS ============================== \\n\")\n",
        "\n",
        "    # Display rentals\n",
        "    print(\"\\nALL RENTALS ============================== \\n\")\n",
        "    for i, rental in enumerate(rentals):\n",
        "      print(f\"\\nRent {i+1} >>--\")\n",
        "      print(rental)\n",
        "\n",
        "    # User selection\n",
        "    print(\"\\nRENTAL DETAILS ============================== \\n\")\n",
        "    ret_rent_ref = \"B-\" + input(\"Rental Reference No.: B-\")\n",
        "\n",
        "    # Search rental\n",
        "    found_rental = search_items(rentals, ret_rent_ref, 'rent_ref')\n",
        "\n",
        "    if found_rental:\n",
        "      found_rental.return_rollerblade(datetime.now())\n",
        "      print(\"\\nRollerblade successfully returned.\")\n",
        "    else:\n",
        "      print(\"Rental details not found!\")\n",
        "\n",
        "  except ValueError as e:\n",
        "    print(\"Error:\", e)\n",
        "\n",
        "  choice = input(\"\\nDo you want to return another rollerblade? (y/n): \").lower()\n",
        "  if choice != \"y\":\n",
        "    break"
      ],
      "metadata": {
        "colab": {
          "base_uri": "https://localhost:8080/"
        },
        "id": "FrCs9gr0ubsf",
        "outputId": "bf02b8d6-c73a-4d17-ca8c-d93a3e4c9557"
      },
      "execution_count": null,
      "outputs": [
        {
          "name": "stdout",
          "output_type": "stream",
          "text": [
            "\n",
            "[RETURN MODE]\n",
            "ENTER RENTAL DETAILS ============================== \n",
            "\n",
            "\n",
            "ALL RENTALS ============================== \n",
            "\n",
            "\n",
            "Rent 1 >>--\n",
            "Rental Reference No.: B-133749\n",
            "            Rollerblade: Product Id - P-225034, Brand - Rollerblade, Model - MACROBLADE 80 ABT, Size - 8.0, Color - Silver/Neon Yellow\n",
            "            Customer: First Name - John, Last Name - McGrath, Age - 29, Email - jmcgrath@gmail.com, Phone - (445)-920-4993\n",
            "            Start DateTime: 2023-05-14 17:55:16\n",
            "            End DateTime: 2023-05-14 18:55:16\n",
            "            Hours Rented: 2 hrs\n",
            "            Total Charged: $30.0\n",
            "\n",
            "Rent 2 >>--\n",
            "Rental Reference No.: B-168414\n",
            "            Rollerblade: Product Id - P-978993, Brand - Rollerblade, Model - ADVANTAGE PRO XT, Size - 12.0, Color - Black/Red\n",
            "            Customer: First Name - Jennifer, Last Name - Kyriakou, Age - 26, Email - jkyriakou@gmail.com, Phone - (664)-903-2929\n",
            "            Start DateTime: 2023-05-14 18:05:16\n",
            "            End DateTime: 2023-05-14 19:05:16\n",
            "            Hours Rented: 1 hrs\n",
            "            Total Charged: $15.0\n",
            "\n",
            "Rent 3 >>--\n",
            "Rental Reference No.: B-229520\n",
            "            Rollerblade: Product Id - P-797504, Brand - Rollerblade, Model - ZETRABLADE, Size - [10.0], Color - Black/Silver\n",
            "            Customer: First Name - Elizabeth, Last Name - Mathews, Age - 23, Email - emathews@gmail.com, Phone - (658)-924-1120\n",
            "            Start DateTime: 2023-05-15 22:50:30\n",
            "            End DateTime: 2023-05-15 23:50:30\n",
            "            Hours Rented: 1 hrs\n",
            "            Total Charged: $13.0\n",
            "\n",
            "RENTAL DETAILS ============================== \n",
            "\n",
            "Rental Reference No.: B-133749\n",
            "Rental Reference No.: B-133749 (Returned)\n",
            "            Rollerblade: Product Id - P-225034, Brand - Rollerblade, Model - MACROBLADE 80 ABT, Size - 8.0, Color - Silver/Neon Yellow\n",
            "            Customer: First Name - John, Last Name - McGrath, Age - 29, Email - jmcgrath@gmail.com, Phone - (445)-920-4993\n",
            "            Start DateTime: 2023-05-14 17:55:16\n",
            "            End DateTime: 2023-05-14 18:55:16\n",
            "            Hours Rented: 2 hrs\n",
            "            Total Charged: $30.0\n",
            "            Actual Return DateTime: 2023-05-15 22:55:14.160081\n",
            "            Late Hours: 27 hrs\n",
            "            Late Return Charge: $135\n",
            "            Total Charged: $165.0\n",
            "\n",
            "Rollerblade successfully returned.\n",
            "\n",
            "Do you want to return another rollerblade? (y/n): n\n"
          ]
        }
      ]
    },
    {
      "cell_type": "markdown",
      "source": [
        "# Customer class"
      ],
      "metadata": {
        "id": "mBh2kmBnv0A1"
      }
    },
    {
      "cell_type": "markdown",
      "source": [
        "## Display customers"
      ],
      "metadata": {
        "id": "AmUADZpbouP7"
      }
    },
    {
      "cell_type": "code",
      "source": [
        "# Display customers\n",
        "print(\"\\nALL CUSTOMERS ==============================\")\n",
        "for i, customer in enumerate(customers):\n",
        "  print(f\"\\nCustomer {i+1} >>--\")\n",
        "  print(customer)"
      ],
      "metadata": {
        "colab": {
          "base_uri": "https://localhost:8080/"
        },
        "id": "ufSVyt39tbDp",
        "outputId": "6c1ae14b-e918-404b-86f1-bfcff1a55aa3"
      },
      "execution_count": null,
      "outputs": [
        {
          "output_type": "stream",
          "name": "stdout",
          "text": [
            "\n",
            "ALL CUSTOMERS ==============================\n",
            "\n",
            "Customer 1 >>--\n",
            "Customer Id: C-149468\n",
            "            First Name: John\n",
            "            Last Name: McGrath\n",
            "            Age: 29\n",
            "            Email: jmcgrath@gmail.com\n",
            "            Phone: (445)-920-4993\n",
            "\n",
            "Customer 2 >>--\n",
            "Customer Id: C-229464\n",
            "            First Name: Jennifer\n",
            "            Last Name: Kyriakou\n",
            "            Age: 26\n",
            "            Email: jkyriakou@gmail.com\n",
            "            Phone: (664)-903-2929\n",
            "\n",
            "Customer 3 >>--\n",
            "Customer Id: C-207935\n",
            "            First Name: Elizabeth\n",
            "            Last Name: Mathews\n",
            "            Age: 23\n",
            "            Email: emathews@gmail.com\n",
            "            Phone: (658)-924-1120\n"
          ]
        }
      ]
    },
    {
      "cell_type": "markdown",
      "source": [
        "## Edit/Display customers"
      ],
      "metadata": {
        "id": "_tsh9oEtqWYe"
      }
    },
    {
      "cell_type": "code",
      "source": [
        "# Loop to take user inputs and edit customer details\n",
        "while True:\n",
        "  try:\n",
        "    print(\"\\n[EDIT MODE]\\nENTER CUSTOMER DETAILS ============================== \\n\")\n",
        "    edit_cust_id = \"C-\" + input(\"Customer Id: C-\")\n",
        "\n",
        "    # Search customer\n",
        "    found_customer = search_items(customers, edit_cust_id, 'cust_id')\n",
        "\n",
        "    if found_customer:\n",
        "      print(\"\\nCUSTOMER DETAILS: \\n\")\n",
        "      print(found_customer)\n",
        "      edit_attr_no = int(input(\"\\nSpecification (edit): 1. First Name | 2. Last Name | 3. Age | 4. Email | 5. Phone: \"))\n",
        "      if(edit_attr_no == 1):\n",
        "        edit_attr = 'fname'\n",
        "        edit_attr_val = input(\"New First Name: \")\n",
        "      elif(edit_attr_no == 2):\n",
        "        edit_attr = 'lname'\n",
        "        edit_attr_val = input(\"New Last Name: \")\n",
        "      elif(edit_attr_no == 3):\n",
        "        edit_attr = 'age'\n",
        "        edit_attr_val = int(input(\"New Age: \"))\n",
        "      elif(edit_attr_no == 4):\n",
        "        edit_attr = 'email'\n",
        "        edit_attr_val = input(\"New Email: \")\n",
        "      elif(edit_attr_no == 5):\n",
        "        edit_attr = 'phone'\n",
        "        edit_attr_val = input(\"New Phone: \")\n",
        "\n",
        "      found_customer.edit_customer(edit_attr, edit_attr_val)\n",
        "    else:\n",
        "      print(\"Customer not found!\")\n",
        "\n",
        "  except ValueError as e:\n",
        "    print(\"Error:\", e)\n",
        "\n",
        "  choice = input(\"\\nDo you want to edit another customer? (y/n): \").lower()\n",
        "  if choice != \"y\":\n",
        "    # Display customers\n",
        "    print(\"\\nALL CUSTOMERS ============================== \\n\")\n",
        "    for i, customer in enumerate(customers):\n",
        "      print(f\"\\nCustomer {i+1} >>--\")\n",
        "      print(customer)\n",
        "    break"
      ],
      "metadata": {
        "id": "r-JzJxIrqZhL",
        "colab": {
          "base_uri": "https://localhost:8080/"
        },
        "outputId": "0c583d8e-5fbe-4a45-8b3e-b23b0445b216"
      },
      "execution_count": null,
      "outputs": [
        {
          "output_type": "stream",
          "name": "stdout",
          "text": [
            "\n",
            "[EDIT MODE]\n",
            "ENTER CUSTOMER DETAILS ============================== \n",
            "\n",
            "Customer Id: C-229464\n",
            "\n",
            "CUSTOMER DETAILS: \n",
            "\n",
            "Customer Id: C-229464\n",
            "            First Name: Jennifer\n",
            "            Last Name: Kyriakou\n",
            "            Age: 26\n",
            "            Email: jkyriakou@gmail.com\n",
            "            Phone: (664)-903-2929\n",
            "\n",
            "Specification (edit): 1. First Name | 2. Last Name | 3. Age | 4. Email | 5. Phone: 5\n",
            "New Phone: (664)-903-2930\n",
            "\n",
            "phone has been updated.\n",
            "\n",
            "Do you want to edit another customer? (y/n): N\n",
            "\n",
            "ALL CUSTOMERS ============================== \n",
            "\n",
            "\n",
            "Customer 1 >>--\n",
            "Customer Id: C-149468\n",
            "            First Name: John\n",
            "            Last Name: McGrath\n",
            "            Age: 29\n",
            "            Email: jmcgrath@gmail.com\n",
            "            Phone: (445)-920-4993\n",
            "\n",
            "Customer 2 >>--\n",
            "Customer Id: C-229464\n",
            "            First Name: Jennifer\n",
            "            Last Name: Kyriakou\n",
            "            Age: 26\n",
            "            Email: jkyriakou@gmail.com\n",
            "            Phone: (664)-903-2930\n",
            "\n",
            "Customer 3 >>--\n",
            "Customer Id: C-207935\n",
            "            First Name: Elizabeth\n",
            "            Last Name: Mathews\n",
            "            Age: 23\n",
            "            Email: emathews@gmail.com\n",
            "            Phone: (658)-924-1120\n"
          ]
        }
      ]
    },
    {
      "cell_type": "markdown",
      "source": [
        "## Search customer"
      ],
      "metadata": {
        "id": "10P2Uf8hxamS"
      }
    },
    {
      "cell_type": "code",
      "source": [
        "# Search customer\n",
        "print(\"\\n[SEARCH MODE]\\nENTER CUSTOMER DETAILS ============================== \\n\")\n",
        "search_cust_id = \"C-\" + input(\"Customer Id: C-\")\n",
        "found_customer = search_items(customers, search_cust_id, 'cust_id')\n",
        "\n",
        "if found_customer:\n",
        "  print(\"\\nCUSTOMER DETAILS: \\n\")\n",
        "  print(found_customer)\n",
        "else:\n",
        "  raise ValueError(f\"Customer with customer id {search_cust_id} not found!\")"
      ],
      "metadata": {
        "colab": {
          "base_uri": "https://localhost:8080/"
        },
        "id": "aSD1z6oYxZEz",
        "outputId": "641137fa-b78c-4a5e-f823-6071369cd0c3"
      },
      "execution_count": null,
      "outputs": [
        {
          "output_type": "stream",
          "name": "stdout",
          "text": [
            "\n",
            "[SEARCH MODE]\n",
            "ENTER CUSTOMER DETAILS ============================== \n",
            "\n",
            "Customer Id: C-122227\n",
            "\n",
            "CUSTOMER DETAILS: \n",
            "\n",
            "Customer Id: C-122227\n",
            "            First Name: Jennifer\n",
            "            Last Name: Kyriakou\n",
            "            Age: 26 USD/hour\n",
            "            Email: jkyriakou@gmail.com\n",
            "            Phone: (664)-903-2929\n"
          ]
        }
      ]
    },
    {
      "cell_type": "markdown",
      "source": [
        "## Sort customers"
      ],
      "metadata": {
        "id": "XBepZOh5yLmp"
      }
    },
    {
      "cell_type": "code",
      "source": [
        "# Sort customers\n",
        "print(\"\\n[SORT MODE]\\nENTER CUSTOMER DETAILS ============================== \\n\")\n",
        "sort_attr_no = int(input(\"\\nSort Attribute: 1. First Name | 2. Last Name | 3. Age: \"))\n",
        "sort_type_no = int(input(\"\\nSort Type: 1. Ascending | 2. Descending: \"))\n",
        "\n",
        "# Sort attributes\n",
        "if(sort_attr_no == 1):\n",
        "  sort_attr = 'fname'\n",
        "elif(sort_attr_no == 2):\n",
        "  sort_attr = 'lname'\n",
        "elif(sort_attr_no == 3):\n",
        "  sort_attr = 'age'\n",
        "\n",
        "# Sort type\n",
        "if(sort_type_no == 1):\n",
        "  asc = True\n",
        "else:\n",
        "  asc = False\n",
        "\n",
        "# Quick sort\n",
        "customers = sort_items(customers, sort_attr, asc)\n",
        "\n",
        "# Display rollerblades\n",
        "print(\"\\nALL CUSTOMERS ============================== \\n\")\n",
        "for i, customer in enumerate(customers):\n",
        "  print(f\"\\nCustomer {i+1} >>--\")\n",
        "  print(customer)"
      ],
      "metadata": {
        "id": "OEQ3vYLiyKEV",
        "colab": {
          "base_uri": "https://localhost:8080/"
        },
        "outputId": "5731b002-7f40-4aab-c5d8-66e5aacb759e"
      },
      "execution_count": null,
      "outputs": [
        {
          "output_type": "stream",
          "name": "stdout",
          "text": [
            "\n",
            "[SORT MODE]\n",
            "ENTER CUSTOMER DETAILS ============================== \n",
            "\n",
            "\n",
            "Sort Attribute: 1. First Name | 2. Last Name | 3. Age: 3\n",
            "\n",
            "Sort Type: 1. Ascending | 2. Descending: 1\n",
            "\n",
            "ALL CUSTOMERS ============================== \n",
            "\n",
            "\n",
            "Customer 1 >>--\n",
            "Customer Id: C-207935\n",
            "            First Name: Elizabeth\n",
            "            Last Name: Mathews\n",
            "            Age: 23\n",
            "            Email: emathews@gmail.com\n",
            "            Phone: (658)-924-1120\n",
            "\n",
            "Customer 2 >>--\n",
            "Customer Id: C-229464\n",
            "            First Name: Jennifer\n",
            "            Last Name: Kyriakou\n",
            "            Age: 26\n",
            "            Email: jkyriakou@gmail.com\n",
            "            Phone: (664)-903-2930\n",
            "\n",
            "Customer 3 >>--\n",
            "Customer Id: C-149468\n",
            "            First Name: John\n",
            "            Last Name: McGrath\n",
            "            Age: 29\n",
            "            Email: jmcgrath@gmail.com\n",
            "            Phone: (445)-920-4993\n"
          ]
        }
      ]
    },
    {
      "cell_type": "markdown",
      "source": [
        "# Analytics"
      ],
      "metadata": {
        "id": "Jj5dobv6wpCZ"
      }
    },
    {
      "cell_type": "markdown",
      "source": [
        "## Total rentals"
      ],
      "metadata": {
        "id": "yNPDAgn91Llu"
      }
    },
    {
      "cell_type": "code",
      "source": [
        "# Total rentals\n",
        "print(f\"Total rentals: {len(rentals)}\")"
      ],
      "metadata": {
        "colab": {
          "base_uri": "https://localhost:8080/"
        },
        "id": "M7d4kPUX1KOv",
        "outputId": "4f687278-ce4b-4415-9a9a-543248b2fa92"
      },
      "execution_count": null,
      "outputs": [
        {
          "output_type": "stream",
          "name": "stdout",
          "text": [
            "Total rentals: 3\n"
          ]
        }
      ]
    },
    {
      "cell_type": "markdown",
      "source": [
        "## Average rental hours"
      ],
      "metadata": {
        "id": "1oF1IzhG1i_U"
      }
    },
    {
      "cell_type": "code",
      "source": [
        "sum_hrs=0\n",
        "for rental in rentals:\n",
        "  sum_hrs += rental.rental_hours\n",
        "\n",
        "print(f\"Average rental hours: {int(sum_hrs/len(rentals))}\")"
      ],
      "metadata": {
        "colab": {
          "base_uri": "https://localhost:8080/"
        },
        "id": "OidgHFhY1mCk",
        "outputId": "f8a02db8-dc7a-41b7-d86a-74307c244b45"
      },
      "execution_count": null,
      "outputs": [
        {
          "output_type": "stream",
          "name": "stdout",
          "text": [
            "Average rental hours: 1\n"
          ]
        }
      ]
    },
    {
      "cell_type": "markdown",
      "source": [
        "## Average age of customers"
      ],
      "metadata": {
        "id": "Vi9yon8P2MpH"
      }
    },
    {
      "cell_type": "code",
      "source": [
        "sum_age=0\n",
        "for customer in customers:\n",
        "  sum_age += customer.age\n",
        "\n",
        "print(f\"Average age of customers: {int(sum_age/len(customers))}\")"
      ],
      "metadata": {
        "colab": {
          "base_uri": "https://localhost:8080/"
        },
        "id": "PDEJFgXp2P-V",
        "outputId": "726d6588-0bfd-472c-feb9-8156f8b236b1"
      },
      "execution_count": null,
      "outputs": [
        {
          "output_type": "stream",
          "name": "stdout",
          "text": [
            "Average age of customers: 26\n"
          ]
        }
      ]
    },
    {
      "cell_type": "markdown",
      "source": [
        "## Most popular rollerblade"
      ],
      "metadata": {
        "id": "v1gofcny2dpP"
      }
    },
    {
      "cell_type": "code",
      "source": [
        "rental_rollerblades = {}\n",
        "for rental in rentals:\n",
        "  if(rental.rollerblade.brand in rental_rollerblades):\n",
        "    rental_rollerblades[rental.rollerblade.brand] +=1\n",
        "  else:\n",
        "    rental_rollerblades[rental.rollerblade.brand] = 1\n",
        "\n",
        "print(rental_rollerblades)\n",
        "popular_rollerblade = max(rental_rollerblades, key=lambda k: rental_rollerblades[k])\n",
        "print(f\"\\nMost popular rollerblade: {popular_rollerblade}\")"
      ],
      "metadata": {
        "colab": {
          "base_uri": "https://localhost:8080/"
        },
        "id": "O9bHJW1M2gUi",
        "outputId": "edef1a47-b6f5-45b3-a932-b718b7a798c1"
      },
      "execution_count": null,
      "outputs": [
        {
          "output_type": "stream",
          "name": "stdout",
          "text": [
            "{'Rollerblade': 3}\n",
            "\n",
            "Most popular rollerblade: Rollerblade\n"
          ]
        }
      ]
    },
    {
      "cell_type": "markdown",
      "source": [
        "## Total revenue earned"
      ],
      "metadata": {
        "id": "QMxaBY5A4PHs"
      }
    },
    {
      "cell_type": "code",
      "source": [
        "sum_rev=0\n",
        "for rental in rentals:\n",
        "  sum_rev += rental.rental_price\n",
        "\n",
        "print(f\"Total revenue earned: {sum_rev}\")"
      ],
      "metadata": {
        "colab": {
          "base_uri": "https://localhost:8080/"
        },
        "id": "nzCYbkRs4NR2",
        "outputId": "ff538f77-1687-47b9-e2c9-cb8fcc149743"
      },
      "execution_count": null,
      "outputs": [
        {
          "output_type": "stream",
          "name": "stdout",
          "text": [
            "Total revenue earned: 58.0\n"
          ]
        }
      ]
    },
    {
      "cell_type": "markdown",
      "source": [
        "# Testing"
      ],
      "metadata": {
        "id": "emmUDbLVxVu3"
      }
    },
    {
      "cell_type": "markdown",
      "source": [
        "## Test rollerblade class\n"
      ],
      "metadata": {
        "id": "mgcATnbuPF40"
      }
    },
    {
      "cell_type": "code",
      "source": [
        "import unittest\n",
        "from rollerblade_rental_system import Rollerblade\n",
        "\n",
        "class TestRollerblade(unittest.TestCase):\n",
        "  def setUp(self):\n",
        "    # Create a Rollerblade object for testing\n",
        "    self.rollerblade = Rollerblade(1, \"Brand1\", \"Model1\", 10, [6,7,8], \"Red\", 4.5)\n",
        "\n",
        "  def test_init(self):\n",
        "    self.assertEqual(self.rollerblade.prod_id, 1)\n",
        "    self.assertEqual(self.rollerblade.brand, \"Brand1\")\n",
        "    self.assertEqual(self.rollerblade.model, \"Model1\")\n",
        "    self.assertEqual(self.rollerblade.rprice, 10)\n",
        "    self.assertEqual(self.rollerblade.sizes, [6,7,8])\n",
        "    self.assertEqual(self.rollerblade.color, \"Red\")\n",
        "    self.assertEqual(self.rollerblade.rating, 4.5)\n",
        "\n",
        "  def test_str(self):\n",
        "    expected_output = \"Product Id: 1\\nBrand: Brand1\\nModel: Model1\\nRental Price: 10 USD/hour\\nAvailable Sizes: [6,7,8]\\nColor: Red\\nRating: 4.5\"\n",
        "    self.assertEqual(str(self.rollerblade), expected_output)\n",
        "\n",
        "  def test_edit_rollerblade_valid_attribute(self):\n",
        "    self.rollerblade.edit_rollerblade(\"rprice\", 15)\n",
        "    self.assertEqual(self.rollerblade.rprice, 15)\n",
        "\n",
        "  def test_edit_rollerblade_invalid_attribute(self):\n",
        "    with self.assertRaises(AttributeError):\n",
        "        self.rollerblade.edit_rollerblade(\"invalid_attribute\", \"value\")\n",
        "\n",
        "if __name__ == '__main__':\n",
        "  unittest.main()"
      ],
      "metadata": {
        "id": "9zwKQHN35Vkb"
      },
      "execution_count": null,
      "outputs": []
    },
    {
      "cell_type": "markdown",
      "source": [
        "![image.png](data:image/png;base64,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)"
      ],
      "metadata": {
        "id": "HnDYBCxPBkTi"
      }
    },
    {
      "cell_type": "markdown",
      "source": [
        "## Test customer class"
      ],
      "metadata": {
        "id": "H_o7dJTzP-Zy"
      }
    },
    {
      "cell_type": "code",
      "source": [
        "import unittest\n",
        "from rollerblade_rental_system import Customer\n",
        "\n",
        "class TestCustomer(unittest.TestCase):\n",
        "  def setUp(self):\n",
        "    # Create a Customer object for testing\n",
        "    self.customer = Customer(1, \"John\", \"Doe\", 30, \"john@example.com\", \"1234567890\")\n",
        "\n",
        "  def test_init(self):\n",
        "    self.assertEqual(self.customer.cust_id, 1)\n",
        "    self.assertEqual(self.customer.fname, \"John\")\n",
        "    self.assertEqual(self.customer.lname, \"Doe\")\n",
        "    self.assertEqual(self.customer.age, 30)\n",
        "    self.assertEqual(self.customer.email, \"john@example.com\")\n",
        "    self.assertEqual(self.customer.phone, \"1234567890\")\n",
        "\n",
        "  def test_str(self):\n",
        "    expected_output = \"Customer Id: 1\\nFirst Name: John\\nLast Name: Doe\\nAge: 30\\nEmail: john@example.com\\nPhone: 1234567890\"\n",
        "    self.assertEqual(str(self.customer), expected_output)\n",
        "\n",
        "  def test_edit_customer_valid_attribute(self):\n",
        "    self.customer.edit_customer(\"email\", \"johndoe@example.com\")\n",
        "    self.assertEqual(self.customer.email, \"johndoe@example.com\")\n",
        "\n",
        "  def test_edit_customer_invalid_attribute(self):\n",
        "    with self.assertRaises(AttributeError):\n",
        "      self.customer.edit_customer(\"invalid_attribute\", \"value\")\n",
        "\n",
        "if __name__ == '__main__':\n",
        "  unittest.main()"
      ],
      "metadata": {
        "id": "KnH5bH6bQ8Vd"
      },
      "execution_count": null,
      "outputs": []
    },
    {
      "cell_type": "markdown",
      "source": [
        "![image.png](data:image/png;base64,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)"
      ],
      "metadata": {
        "id": "J4LjAdI-BF6V"
      }
    },
    {
      "cell_type": "markdown",
      "source": [
        "## Test rental class"
      ],
      "metadata": {
        "id": "jcc76jpBuh86"
      }
    },
    {
      "cell_type": "code",
      "source": [
        "import unittest\n",
        "from datetime import datetime\n",
        "from rollerblade_rental_system import Rental, Customer, Rollerblade\n",
        "\n",
        "class TestRental(unittest.TestCase):\n",
        "  def setUp(self):\n",
        "    self.customer = Customer(\"C001\", \"John\", \"Doe\", 25, \"john.doe@example.com\", \"1234567890\")\n",
        "    self.rollerblade = Rollerblade(\"RB001\", \"Brand X\", \"Model A\", 10.0, \"M\", \"Red\", 4.5)\n",
        "    self.rental = Rental(\"R001\", self.customer, self.rollerblade, \"2023-01-01 10:00:00\", \"2023-01-01 12:00:00\", 2, 20.0)\n",
        "\n",
        "  def test_edit_rental(self):\n",
        "    self.rental.edit_rental(3, 30.0, \"2023-01-01 13:00:00\")\n",
        "    self.assertEqual(self.rental.rental_hours, 3)\n",
        "    self.assertEqual(self.rental.rental_price, 30.0)\n",
        "    self.assertEqual(self.rental.end_datetime, \"2023-01-01 13:00:00\")\n",
        "\n",
        "  def test_return_rollerblade(self):\n",
        "    return_datetime = datetime.strptime(\"2023-01-01 14:00:00\", '%Y-%m-%d %H:%M:%S')\n",
        "    self.rental.return_rollerblade(return_datetime)\n",
        "    expected_output = \"Rental Reference No.: R001 (Returned)\\n\" \\\n",
        "                      \"Rollerblade: Product Id - RB001, Brand - Brand X, Model - Model A, Size - M, Color - Red\\n\" \\\n",
        "                      \"Customer: First Name - John, Last Name - Doe, Age - 25, Email - john.doe@example.com, Phone - 1234567890\\n\" \\\n",
        "                      \"Start DateTime: 2023-01-01 10:00:00\\n\" \\\n",
        "                      \"End DateTime: 2023-01-01 12:00:00\\n\" \\\n",
        "                      \"Hours Rented: 2 hrs\\n\" \\\n",
        "                      \"Total Charged: $20.0\\n\" \\\n",
        "                      \"Actual Return DateTime: 2023-01-01 14:00:00\\n\" \\\n",
        "                      \"Late Hours: 2 hrs\\n\" \\\n",
        "                      \"Late Return Charge: $10.0\\n\" \\\n",
        "                      \"Total Charged: $30.0\"\n",
        "    self.assertEqual(expected_output, self.rental.__str__())\n",
        "\n",
        "if __name__ == '__main__':\n",
        "  unittest.main()"
      ],
      "metadata": {
        "id": "jQsrEe_yQCoH"
      },
      "execution_count": null,
      "outputs": []
    },
    {
      "cell_type": "markdown",
      "source": [
        "![image.png](data:image/png;base64,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)"
      ],
      "metadata": {
        "id": "jEl2-tRECDFL"
      }
    }
  ]
}